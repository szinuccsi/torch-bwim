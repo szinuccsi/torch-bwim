{
 "cells": [
  {
   "cell_type": "code",
   "execution_count": 1,
   "metadata": {
    "collapsed": true
   },
   "outputs": [
    {
     "name": "stdout",
     "output_type": "stream",
     "text": [
      "Collecting git+https://github.com/szinuccsi/persistance_helper.git#subdirectory=src (from -r requirements.txt (line 5))\n",
      "  Cloning https://github.com/szinuccsi/persistance_helper.git to c:\\users\\bwim_erik\\appdata\\local\\temp\\pip-req-build-m_yoppjs\n",
      "  Resolved https://github.com/szinuccsi/persistance_helper.git to commit edbf98cd8d0a7ad9b8fd98fd3b66d176d1f89891\n",
      "  Preparing metadata (setup.py): started\n",
      "  Preparing metadata (setup.py): finished with status 'done'\n",
      "Collecting numpy\n",
      "  Using cached numpy-1.23.3-cp38-cp38-win_amd64.whl (14.7 MB)\n",
      "Collecting torch\n",
      "  Using cached torch-1.12.1-cp38-cp38-win_amd64.whl (161.9 MB)\n",
      "Collecting matplotlib\n",
      "  Using cached matplotlib-3.6.0-cp38-cp38-win_amd64.whl (7.2 MB)\n",
      "Collecting scipy\n",
      "  Using cached scipy-1.9.1-cp38-cp38-win_amd64.whl (38.6 MB)\n",
      "Requirement already satisfied: typing-extensions in c:\\users\\bwim_erik\\anaconda3\\envs\\torch-bwim\\lib\\site-packages (from torch->-r requirements.txt (line 2)) (4.3.0)\n",
      "Requirement already satisfied: pyparsing>=2.2.1 in c:\\users\\bwim_erik\\anaconda3\\envs\\torch-bwim\\lib\\site-packages (from matplotlib->-r requirements.txt (line 3)) (3.0.9)\n",
      "Requirement already satisfied: python-dateutil>=2.7 in c:\\users\\bwim_erik\\anaconda3\\envs\\torch-bwim\\lib\\site-packages (from matplotlib->-r requirements.txt (line 3)) (2.8.2)\n",
      "Collecting contourpy>=1.0.1\n",
      "  Using cached contourpy-1.0.5-cp38-cp38-win_amd64.whl (164 kB)\n",
      "Collecting kiwisolver>=1.0.1\n",
      "  Using cached kiwisolver-1.4.4-cp38-cp38-win_amd64.whl (55 kB)\n",
      "Collecting pillow>=6.2.0\n",
      "  Using cached Pillow-9.2.0-cp38-cp38-win_amd64.whl (3.3 MB)\n",
      "Collecting fonttools>=4.22.0\n",
      "  Using cached fonttools-4.37.2-py3-none-any.whl (959 kB)\n",
      "Collecting cycler>=0.10\n",
      "  Using cached cycler-0.11.0-py3-none-any.whl (6.4 kB)\n",
      "Requirement already satisfied: packaging>=20.0 in c:\\users\\bwim_erik\\anaconda3\\envs\\torch-bwim\\lib\\site-packages (from matplotlib->-r requirements.txt (line 3)) (21.3)\n",
      "Requirement already satisfied: six>=1.5 in c:\\users\\bwim_erik\\anaconda3\\envs\\torch-bwim\\lib\\site-packages (from python-dateutil>=2.7->matplotlib->-r requirements.txt (line 3)) (1.16.0)\n",
      "Building wheels for collected packages: persistance-helper\n",
      "  Building wheel for persistance-helper (setup.py): started\n",
      "  Building wheel for persistance-helper (setup.py): finished with status 'done'\n",
      "  Created wheel for persistance-helper: filename=persistance_helper-0.0.1-py3-none-any.whl size=3387 sha256=698395dc99c369ebc6042a306a18d6dd46ba7ff8e35e353adf37fbf2932cf662\n",
      "  Stored in directory: C:\\Users\\bwim_erik\\AppData\\Local\\Temp\\pip-ephem-wheel-cache-c27frs5q\\wheels\\02\\8e\\d0\\274153fccd4ae9def8c19c153c91bee04ca3bec6b462eb10d8\n",
      "Successfully built persistance-helper\n",
      "Installing collected packages: torch, pillow, persistance-helper, numpy, kiwisolver, fonttools, cycler, scipy, contourpy, matplotlib\n",
      "Successfully installed contourpy-1.0.5 cycler-0.11.0 fonttools-4.37.2 kiwisolver-1.4.4 matplotlib-3.6.0 numpy-1.23.3 persistance-helper-0.0.1 pillow-9.2.0 scipy-1.9.1 torch-1.12.1\n"
     ]
    },
    {
     "name": "stderr",
     "output_type": "stream",
     "text": [
      "  Running command git clone --filter=blob:none --quiet https://github.com/szinuccsi/persistance_helper.git 'C:\\Users\\bwim_erik\\AppData\\Local\\Temp\\pip-req-build-m_yoppjs'\n"
     ]
    }
   ],
   "source": [
    "!pip install -r requirements.txt"
   ]
  },
  {
   "cell_type": "code",
   "execution_count": 3,
   "outputs": [
    {
     "name": "stdout",
     "output_type": "stream",
     "text": [
      "Collecting matplotlib==3.5.2\n",
      "  Using cached matplotlib-3.5.2-cp38-cp38-win_amd64.whl (7.2 MB)\n",
      "Requirement already satisfied: fonttools>=4.22.0 in c:\\users\\bwim_erik\\anaconda3\\envs\\torch-bwim\\lib\\site-packages (from matplotlib==3.5.2) (4.37.2)\n",
      "Requirement already satisfied: packaging>=20.0 in c:\\users\\bwim_erik\\anaconda3\\envs\\torch-bwim\\lib\\site-packages (from matplotlib==3.5.2) (21.3)\n",
      "Requirement already satisfied: pillow>=6.2.0 in c:\\users\\bwim_erik\\anaconda3\\envs\\torch-bwim\\lib\\site-packages (from matplotlib==3.5.2) (9.2.0)\n",
      "Requirement already satisfied: python-dateutil>=2.7 in c:\\users\\bwim_erik\\anaconda3\\envs\\torch-bwim\\lib\\site-packages (from matplotlib==3.5.2) (2.8.2)\n",
      "Requirement already satisfied: kiwisolver>=1.0.1 in c:\\users\\bwim_erik\\anaconda3\\envs\\torch-bwim\\lib\\site-packages (from matplotlib==3.5.2) (1.4.4)\n",
      "Requirement already satisfied: pyparsing>=2.2.1 in c:\\users\\bwim_erik\\anaconda3\\envs\\torch-bwim\\lib\\site-packages (from matplotlib==3.5.2) (3.0.9)\n",
      "Requirement already satisfied: cycler>=0.10 in c:\\users\\bwim_erik\\anaconda3\\envs\\torch-bwim\\lib\\site-packages (from matplotlib==3.5.2) (0.11.0)\n",
      "Requirement already satisfied: numpy>=1.17 in c:\\users\\bwim_erik\\anaconda3\\envs\\torch-bwim\\lib\\site-packages (from matplotlib==3.5.2) (1.23.3)\n",
      "Requirement already satisfied: six>=1.5 in c:\\users\\bwim_erik\\anaconda3\\envs\\torch-bwim\\lib\\site-packages (from python-dateutil>=2.7->matplotlib==3.5.2) (1.16.0)\n",
      "Installing collected packages: matplotlib\n",
      "  Attempting uninstall: matplotlib\n",
      "    Found existing installation: matplotlib 3.6.0\n",
      "    Uninstalling matplotlib-3.6.0:\n",
      "      Successfully uninstalled matplotlib-3.6.0\n",
      "Successfully installed matplotlib-3.5.2\n"
     ]
    }
   ],
   "source": [
    "!pip install matplotlib==3.5.2"
   ],
   "metadata": {
    "collapsed": false
   }
  },
  {
   "cell_type": "code",
   "execution_count": 7,
   "outputs": [
    {
     "name": "stdout",
     "output_type": "stream",
     "text": [
      "Looking in indexes: https://pypi.org/simple, https://download.pytorch.org/whl/cu116\n",
      "Collecting torch\n",
      "  Using cached https://download.pytorch.org/whl/cu116/torch-1.12.1%2Bcu116-cp38-cp38-win_amd64.whl (2388.1 MB)\n",
      "Collecting torchvision\n",
      "  Using cached https://download.pytorch.org/whl/cu116/torchvision-0.13.1%2Bcu116-cp38-cp38-win_amd64.whl (2.6 MB)\n",
      "Collecting torchaudio\n",
      "  Using cached https://download.pytorch.org/whl/cu116/torchaudio-0.12.1%2Bcu116-cp38-cp38-win_amd64.whl (1.2 MB)\n",
      "Collecting typing-extensions\n",
      "  Using cached typing_extensions-4.3.0-py3-none-any.whl (25 kB)\n",
      "Collecting pillow!=8.3.*,>=5.3.0\n",
      "  Using cached Pillow-9.2.0-cp38-cp38-win_amd64.whl (3.3 MB)\n",
      "Collecting numpy\n",
      "  Using cached numpy-1.23.3-cp38-cp38-win_amd64.whl (14.7 MB)\n",
      "Collecting requests\n",
      "  Using cached requests-2.28.1-py3-none-any.whl (62 kB)\n",
      "Collecting urllib3<1.27,>=1.21.1\n",
      "  Using cached urllib3-1.26.12-py2.py3-none-any.whl (140 kB)\n",
      "Collecting certifi>=2017.4.17\n",
      "  Using cached certifi-2022.9.14-py3-none-any.whl (162 kB)\n",
      "Collecting idna<4,>=2.5\n",
      "  Using cached idna-3.4-py3-none-any.whl (61 kB)\n",
      "Collecting charset-normalizer<3,>=2\n",
      "  Using cached charset_normalizer-2.1.1-py3-none-any.whl (39 kB)\n",
      "Installing collected packages: urllib3, typing-extensions, pillow, numpy, idna, charset-normalizer, certifi, torch, requests, torchvision, torchaudio\n",
      "Successfully installed certifi-2022.9.14 charset-normalizer-2.1.1 idna-3.4 numpy-1.23.3 pillow-9.2.0 requests-2.28.1 torch-1.12.1+cu116 torchaudio-0.12.1+cu116 torchvision-0.13.1+cu116 typing-extensions-4.3.0 urllib3-1.26.12\n"
     ]
    },
    {
     "name": "stderr",
     "output_type": "stream",
     "text": [
      "WARNING: Ignoring invalid distribution -illow (c:\\users\\bwim_erik\\anaconda3\\envs\\torch-bwim\\lib\\site-packages)\n",
      "WARNING: Ignoring invalid distribution -illow (c:\\users\\bwim_erik\\anaconda3\\envs\\torch-bwim\\lib\\site-packages)\n",
      "WARNING: Ignoring invalid distribution -illow (c:\\users\\bwim_erik\\anaconda3\\envs\\torch-bwim\\lib\\site-packages)\n",
      "  WARNING: The script f2py.exe is installed in 'C:\\Users\\bwim_erik\\AppData\\Roaming\\Python\\Python38\\Scripts' which is not on PATH.\n",
      "  Consider adding this directory to PATH or, if you prefer to suppress this warning, use --no-warn-script-location.\n",
      "  WARNING: The script normalizer.exe is installed in 'C:\\Users\\bwim_erik\\AppData\\Roaming\\Python\\Python38\\Scripts' which is not on PATH.\n",
      "  Consider adding this directory to PATH or, if you prefer to suppress this warning, use --no-warn-script-location.\n",
      "  WARNING: The scripts convert-caffe2-to-onnx.exe, convert-onnx-to-caffe2.exe and torchrun.exe are installed in 'C:\\Users\\bwim_erik\\AppData\\Roaming\\Python\\Python38\\Scripts' which is not on PATH.\n",
      "  Consider adding this directory to PATH or, if you prefer to suppress this warning, use --no-warn-script-location.\n",
      "WARNING: Ignoring invalid distribution -illow (c:\\users\\bwim_erik\\anaconda3\\envs\\torch-bwim\\lib\\site-packages)\n",
      "WARNING: Ignoring invalid distribution -illow (c:\\users\\bwim_erik\\anaconda3\\envs\\torch-bwim\\lib\\site-packages)\n",
      "WARNING: Ignoring invalid distribution -illow (c:\\users\\bwim_erik\\anaconda3\\envs\\torch-bwim\\lib\\site-packages)\n"
     ]
    }
   ],
   "source": [
    "!pip3 install --user --upgrade --force-reinstall torch torchvision torchaudio --extra-index-url https://download.pytorch.org/whl/cu116"
   ],
   "metadata": {
    "collapsed": false
   }
  },
  {
   "cell_type": "code",
   "execution_count": null,
   "outputs": [],
   "source": [],
   "metadata": {
    "collapsed": false
   }
  }
 ],
 "metadata": {
  "kernelspec": {
   "display_name": "Python 3",
   "language": "python",
   "name": "python3"
  },
  "language_info": {
   "codemirror_mode": {
    "name": "ipython",
    "version": 2
   },
   "file_extension": ".py",
   "mimetype": "text/x-python",
   "name": "python",
   "nbconvert_exporter": "python",
   "pygments_lexer": "ipython2",
   "version": "2.7.6"
  }
 },
 "nbformat": 4,
 "nbformat_minor": 0
}
