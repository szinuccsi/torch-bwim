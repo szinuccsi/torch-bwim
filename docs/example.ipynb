{
 "cells": [
  {
   "cell_type": "code",
   "execution_count": null,
   "metadata": {
    "pycharm": {
     "name": "#%%\n"
    }
   },
   "outputs": [],
   "source": [
    "import torch\n",
    "import torch.nn as nn\n",
    "\n",
    "from torch_bwim.dataset.ToTensorAdapter import ToTensorAdapter\n",
    "from torch_bwim.dataset.TorchDataUtils import TorchDataUtils\n",
    "from torch_bwim.dataset.TrainDictDataset import TrainDictDataset\n",
    "from torch_bwim.lr_schedulers.modules.CosAnnealingScheduler import CosAnnealingScheduler\n",
    "from torch_bwim.nets.ActivationFunctions import ActivationFunctions\n",
    "from torch_bwim.nets.NetBase import NetBase\n",
    "from torch_bwim.optimizers.modules.AdamFactory import AdamFactory\n",
    "from torch_bwim.trainers.modules.StandardNetTrainer import StandardNetTrainer\n",
    "\n",
    "%load_ext autoreload\n",
    "%autoreload 2"
   ]
  },
  {
   "cell_type": "code",
   "execution_count": null,
   "metadata": {
    "pycharm": {
     "name": "#%%\n"
    }
   },
   "outputs": [],
   "source": [
    "class VariableLengthInputOutputNet(NetBase):\n",
    "\n",
    "    class Config(object):\n",
    "        def __init__(self, neuron_count1, neuron_count2):\n",
    "            super().__init__()\n",
    "            self.neuron_count1 = neuron_count1\n",
    "            self.neuron_count2 = neuron_count2\n",
    "\n",
    "    def __init__(self, config: Config):\n",
    "        super().__init__(config)\n",
    "        self.config = config\n",
    "        self.sin_layers = self._create_layers()\n",
    "        self.cos_layers = self._create_layers()\n",
    "\n",
    "    def _create_layers(self):\n",
    "        cfg = self.config\n",
    "        return nn.Sequential(\n",
    "            nn.Linear(1, cfg.neuron_count1),\n",
    "            ActivationFunctions.get_function(ActivationFunctions.Types.LeakyReLU),\n",
    "            nn.Linear(cfg.neuron_count1, cfg.neuron_count2),\n",
    "            ActivationFunctions.get_function(ActivationFunctions.Types.LeakyReLU),\n",
    "            nn.Linear(cfg.neuron_count2, 1),\n",
    "            ActivationFunctions.get_function(ActivationFunctions.Types.LeakyReLU)\n",
    "        )\n",
    "\n",
    "    def forward(self, input1, input2):\n",
    "        orig_size = input1.shape\n",
    "\n",
    "        reshape_size = (orig_size[0] * orig_size[1], 1)\n",
    "        input1 = torch.reshape(input1, reshape_size)\n",
    "        input2 = torch.reshape(input2, reshape_size)\n",
    "        out1 = self.sin_layers.forward(input1)\n",
    "        out2 = self.cos_layers.forward(input2)\n",
    "\n",
    "        output = out1 + out2\n",
    "        output = torch.reshape(output, orig_size)\n",
    "        return output"
   ]
  },
  {
   "cell_type": "code",
   "execution_count": null,
   "metadata": {
    "pycharm": {
     "name": "#%%\n"
    }
   },
   "outputs": [],
   "source": [
    "example_net = VariableLengthInputOutputNet(\n",
    "    config=VariableLengthInputOutputNet.Config(\n",
    "        neuron_count1=8, neuron_count2=16\n",
    "    )\n",
    ")\n",
    "\n",
    "output = example_net.forward(torch.empty(8, 16), torch.empty(8, 16))\n",
    "print(f'Output size: {output.size()}')\n",
    "output, = example_net(torch.empty(8, 16), torch.empty(8, 16))\n",
    "TorchDataUtils.check_shape(output, expected_shape=(8, 16))"
   ]
  },
  {
   "cell_type": "code",
   "execution_count": null,
   "metadata": {
    "pycharm": {
     "name": "#%%\n"
    }
   },
   "outputs": [],
   "source": [
    "import numpy as np\n",
    "\n",
    "\n",
    "def noise(size):\n",
    "    return np.random.normal(0.0, 0.01, size)\n",
    "\n",
    "INPUT_FEATURE1 = 'input1'\n",
    "INPUT_FEATURE2 = 'input2'\n",
    "LABEL_FEATURE = 'label'\n",
    "SIZE_OF_INPUT = 'size_of_input'\n",
    "\n",
    "def generate_dataset(variable_input_size=False):\n",
    "    generated_dataset = []\n",
    "    PI = 3.14\n",
    "    for i in range(2048):\n",
    "        size = ((i // 512) + 1) * 16 if variable_input_size else 32\n",
    "        new_data = dict()\n",
    "        new_data[SIZE_OF_INPUT] = size\n",
    "        new_data[INPUT_FEATURE1] = input1 = np.random.uniform(-PI, +PI, size) + noise(size)\n",
    "        new_data[INPUT_FEATURE2] = input2 = np.random.uniform(-PI, +PI, size) + noise(size)\n",
    "\n",
    "        new_data[LABEL_FEATURE] = np.sin(input1) + np.cos(input2) + noise(size)\n",
    "        generated_dataset.append(new_data)\n",
    "    return generated_dataset\n",
    "\n",
    "dict_dataset = generate_dataset()"
   ]
  },
  {
   "cell_type": "code",
   "execution_count": null,
   "metadata": {
    "pycharm": {
     "name": "#%%\n"
    }
   },
   "outputs": [],
   "source": [
    "class ExampleInputToTensor(ToTensorAdapter):\n",
    "    def __init__(self):\n",
    "        super().__init__(length_out=2)\n",
    "\n",
    "    def process(self, data: dict):\n",
    "        in1 = torch.from_numpy(data[INPUT_FEATURE1].astype(np.float32))\n",
    "        in2 = torch.from_numpy(data[INPUT_FEATURE2].astype(np.float32))\n",
    "        return in1, in2\n",
    "\n",
    "\n",
    "class ExampleLabelToTensor(ToTensorAdapter):\n",
    "    def __init__(self):\n",
    "        super().__init__(length_out=1)\n",
    "\n",
    "    def process(self, data: dict):\n",
    "        label = torch.from_numpy(data[LABEL_FEATURE].astype(np.float32))\n",
    "        return label,\n"
   ]
  },
  {
   "cell_type": "code",
   "execution_count": null,
   "metadata": {
    "pycharm": {
     "name": "#%%\n"
    }
   },
   "outputs": [],
   "source": [
    "dataset = TrainDictDataset(\n",
    "    dict_dataset=dict_dataset,\n",
    "    input_to_tensor_adapter=ExampleInputToTensor(),\n",
    "    label_to_tensor_adapter=ExampleLabelToTensor()\n",
    ")"
   ]
  },
  {
   "cell_type": "code",
   "execution_count": null,
   "metadata": {
    "pycharm": {
     "name": "#%%\n"
    }
   },
   "outputs": [],
   "source": [
    "index, input1, input2, label = dataset[3]\n",
    "print(index)\n",
    "\n",
    "original_dict = dataset.get_sample(index)\n",
    "print(original_dict is dict_dataset[3])"
   ]
  },
  {
   "cell_type": "code",
   "execution_count": null,
   "metadata": {
    "pycharm": {
     "name": "#%%\n"
    }
   },
   "outputs": [],
   "source": [
    "trainer = StandardNetTrainer(\n",
    "    train_config=StandardNetTrainer.Config(\n",
    "        batch_size=256, shuffle_dataset=True,\n",
    "        random_state=42\n",
    "    ),\n",
    "    logger=print\n",
    ")\n",
    "\n",
    "net = VariableLengthInputOutputNet(\n",
    "    config=VariableLengthInputOutputNet.Config(\n",
    "        neuron_count1=16, neuron_count2=64\n",
    "    )\n",
    ")\n",
    "\n",
    "train_dataset, val_dataset = TorchDataUtils.split_dataset(dataset, length_ratios=[0.8, 0.2])\n",
    "\n",
    "trainer.initialize(\n",
    "    net=net,\n",
    "    train_dataset=train_dataset, val_dataset=val_dataset,\n",
    "    dataset_provider=dataset,\n",
    "    loss_function=nn.MSELoss(),\n",
    "    scheduler_config=CosAnnealingScheduler.Config(\n",
    "        step_period=128, annealing_period_in_steps=256, lr_ratio=0.5\n",
    "    ),\n",
    "    optimizer_config=AdamFactory.Config(learning_rate=1e-3, weight_decay=1e-6, amsgrad=True),\n",
    "    cuda=True,\n",
    ")\n",
    "trainer.train(epoch_num=300)"
   ]
  }
 ],
 "metadata": {
  "kernelspec": {
   "display_name": "Python 3 (ipykernel)",
   "language": "python",
   "name": "python3"
  },
  "language_info": {
   "codemirror_mode": {
    "name": "ipython",
    "version": 3
   },
   "file_extension": ".py",
   "mimetype": "text/x-python",
   "name": "python",
   "nbconvert_exporter": "python",
   "pygments_lexer": "ipython3",
   "version": "3.8.10"
  }
 },
 "nbformat": 4,
 "nbformat_minor": 1
}