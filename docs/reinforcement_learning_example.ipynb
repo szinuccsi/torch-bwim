{
 "cells": [
  {
   "cell_type": "code",
   "execution_count": null,
   "metadata": {
    "pycharm": {
     "name": "#%%\n"
    }
   },
   "outputs": [],
   "source": [
    "import gym\n",
    "import torch\n",
    "import torch.nn as nn\n",
    "\n",
    "from torch_bwim.dataset.TorchDataUtils import TorchDataUtils\n",
    "from torch_bwim.loss_functions.reinforcement_learning.ReinforcementLoss import ReinforcementLoss\n",
    "from torch_bwim.lr_schedulers.modules.NullScheduler import NullScheduler\n",
    "from torch_bwim.nets.NnModuleUtils import NnModuleUtils\n",
    "from torch_bwim.nets.modules.reinforce.DiscrActorCriticNet import DiscrActorCriticNet\n",
    "from torch_bwim.optimizers.modules.AdamFactory import AdamFactory\n",
    "from torch_bwim.trainers.modules.ActorCriticNetTrainer import ActorCriticNetTrainer\n",
    "\n",
    "%load_ext autoreload\n",
    "%autoreload 2"
   ]
  },
  {
   "cell_type": "code",
   "execution_count": null,
   "metadata": {
    "pycharm": {
     "name": "#%%\n"
    }
   },
   "outputs": [],
   "source": [
    "class GymEnvWrapper(gym.Env):\n",
    "    def __init__(self, env: gym.Env):\n",
    "        super().__init__()\n",
    "        self.env = env\n",
    "\n",
    "    def step(self, action):\n",
    "        action = action.item()\n",
    "        state, reward, done, extra_info = self.env.step(action=action)\n",
    "        return NnModuleUtils.from_array(state), reward, done, extra_info\n",
    "\n",
    "    def reset(self, seed=None, return_info=False,options=None):\n",
    "        state = self.env.reset(seed=seed, return_info=return_info, options=options)\n",
    "        return NnModuleUtils.from_array(state)\n",
    "\n",
    "    def close(self):\n",
    "        self.env.close()\n"
   ]
  },
  {
   "cell_type": "code",
   "execution_count": null,
   "metadata": {
    "pycharm": {
     "name": "#%%\n"
    }
   },
   "outputs": [],
   "source": [
    "env = gym.make('CartPole-v1')\n",
    "env = GymEnvWrapper(env=env)"
   ]
  },
  {
   "cell_type": "code",
   "execution_count": null,
   "metadata": {
    "pycharm": {
     "name": "#%%\n"
    }
   },
   "outputs": [],
   "source": [
    "state = env.reset()\n",
    "print(state)"
   ]
  },
  {
   "cell_type": "code",
   "execution_count": null,
   "metadata": {
    "pycharm": {
     "name": "#%%\n"
    }
   },
   "outputs": [],
   "source": [
    "state, reward, done, _ = env.step(action=torch.tensor([1]))\n",
    "print(state, reward, done)"
   ]
  },
  {
   "cell_type": "code",
   "execution_count": null,
   "metadata": {
    "pycharm": {
     "name": "#%%\n"
    }
   },
   "outputs": [],
   "source": [
    "class Policy(DiscrActorCriticNet):\n",
    "\n",
    "  class Config(DiscrActorCriticNet.Config):\n",
    "      def __init__(self, in_size, hidden_size, action_out, value_out):\n",
    "          super().__init__()\n",
    "          self.in_size = in_size\n",
    "          self.hidden_size = hidden_size\n",
    "          self.action_out = action_out\n",
    "          self.value_out = value_out\n",
    "\n",
    "  def __init__(self, config: Config):\n",
    "    super().__init__(config=config)\n",
    "    self.config = config\n",
    "    cfg = config\n",
    "    self.l1 = nn.Linear(cfg.in_size, cfg.hidden_size)\n",
    "    self.action_head = nn.Linear(cfg.hidden_size, cfg.action_out)\n",
    "    self.value_head = nn.Linear(cfg.hidden_size, cfg.value_out)\n",
    "\n",
    "  def forward(self, x):\n",
    "    hidden_state = torch.relu(self.l1(x))\n",
    "    action_scores = self.action_head(hidden_state)\n",
    "    state_values = self.value_head(hidden_state)\n",
    "    return torch.softmax(action_scores, dim=-1), state_values\n"
   ]
  },
  {
   "cell_type": "code",
   "execution_count": null,
   "metadata": {
    "pycharm": {
     "name": "#%%\n"
    }
   },
   "outputs": [],
   "source": [
    "net = Policy(config=Policy.Config(in_size=4, hidden_size=128, action_out=2, value_out=1))"
   ]
  },
  {
   "cell_type": "code",
   "execution_count": null,
   "metadata": {
    "pycharm": {
     "name": "#%%\n"
    }
   },
   "outputs": [],
   "source": [
    "action_scores, baseline = net.forward(torch.randn((1, 4)))\n",
    "print(action_scores.shape)\n",
    "print(baseline.shape)"
   ]
  },
  {
   "cell_type": "code",
   "execution_count": null,
   "metadata": {
    "pycharm": {
     "name": "#%%\n"
    }
   },
   "outputs": [],
   "source": [
    "action = net(state=state)\n",
    "print(action)\n",
    "print(action.shape)"
   ]
  },
  {
   "cell_type": "code",
   "execution_count": null,
   "metadata": {
    "pycharm": {
     "name": "#%%\n"
    }
   },
   "outputs": [],
   "source": [
    "env.step(action)"
   ]
  },
  {
   "cell_type": "code",
   "execution_count": null,
   "metadata": {
    "pycharm": {
     "name": "#%%\n"
    }
   },
   "outputs": [],
   "source": [
    "net = Policy(config=Policy.Config(in_size=4, hidden_size=128, action_out=2, value_out=1))\n",
    "\n",
    "trainer = ActorCriticNetTrainer(\n",
    "    train_config=ActorCriticNetTrainer.Config(),\n",
    "    logger=print\n",
    ")\n",
    "\n",
    "trainer.initialize(\n",
    "    net=net, env=env,\n",
    "    loss_function=ReinforcementLoss(config=ReinforcementLoss.Config(gamma=0.99)),\n",
    "    scheduler_config=NullScheduler.Config(), optimizer_config=AdamFactory.Config(learning_rate=1e-3, weight_decay=1e-4),\n",
    "    cuda=False\n",
    ")\n",
    "\n",
    "trainer.train(episode_num=1000, max_iter_in_episode=200)"
   ]
  }
 ],
 "metadata": {
  "kernelspec": {
   "display_name": "Python 3 (ipykernel)",
   "language": "python",
   "name": "python3"
  },
  "language_info": {
   "codemirror_mode": {
    "name": "ipython",
    "version": 3
   },
   "file_extension": ".py",
   "mimetype": "text/x-python",
   "name": "python",
   "nbconvert_exporter": "python",
   "pygments_lexer": "ipython3",
   "version": "3.8.10"
  }
 },
 "nbformat": 4,
 "nbformat_minor": 1
}